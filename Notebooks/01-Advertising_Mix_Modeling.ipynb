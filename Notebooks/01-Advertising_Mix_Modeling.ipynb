{
 "cells": [
  {
   "cell_type": "markdown",
   "metadata": {
    "id": "dtLqsmdouTzM"
   },
   "source": [
    "# Advertising Mix Modeling Through Sales Data Analysis\n",
    "## Mix optimization using advertising costs and sales data\n",
    "----\n",
    "##### by Brenda Hali\n"
   ]
  },
  {
   "cell_type": "markdown",
   "metadata": {
    "id": "TAbd4Eceux68"
   },
   "source": [
    "## Problem Statement\n",
    "\n",
    "Every firm is different. Even those within the same market segments can execute different advertising strategies. Finding an advertising mix that works for your firm is equal parts science and art. \n",
    "\n",
    "Firms that run successful campaigns across multiple platforms have mastered the arts of combining these tactics to create loyal customers that can’t wait to purchase your product or service offering.\n",
    "\n",
    "Finding the right mix, however, is where many firms struggle. With nearly unlimited options, it’s often hard to drill down the correct platform, strategy, or tactic that will lead you sales. Most firms never find the right mix at all. \n",
    "This notebook will cover the basis to master the science of finding and optimizing the advertising mix. \n",
    "\n",
    "## Goal\n",
    "-\tPredict the impact of media spends on sales \n",
    "-\tFind the right advertising mix that maximizes sales\n",
    "-\tUse this media mix in other marketing plans \n",
    "\n",
    "\n",
    "Note: When firms are in Acquisition stage, the variables will be indicators such as number of visitors, number of subscribers, daily / monthly active users, rather than sales.\n",
    "\n"
   ]
  },
  {
   "cell_type": "markdown",
   "metadata": {
    "id": "7s6oSCyHuU1L"
   },
   "source": [
    "### Data\n",
    "\n",
    "Download the public dataset from Kaggle (https://www.kaggle.com/sazid28/advertising.csv/).\n",
    "\n",
    "\n",
    "#### Data Description\n",
    "\n",
    "\n",
    "  * **TV** - TV Cost\n",
    "  * **Radio** - Radio Cost\n",
    "  * **Newspaper** - Newspaper Cost \n",
    "  * **Sales** - Total Sales\n",
    "\n"
   ]
  },
  {
   "cell_type": "markdown",
   "metadata": {
    "id": "vo4xaRFau0tY"
   },
   "source": [
    "## Exploratory Data Analysis"
   ]
  },
  {
   "cell_type": "code",
   "execution_count": 1,
   "metadata": {
    "colab": {
     "base_uri": "https://localhost:8080/"
    },
    "executionInfo": {
     "elapsed": 866,
     "status": "ok",
     "timestamp": 1613882025938,
     "user": {
      "displayName": "Brenda Hali",
      "photoUrl": "",
      "userId": "16904729288000002034"
     },
     "user_tz": 300
    },
    "id": "Or6DBFfPuwJT",
    "outputId": "84fb42eb-d229-4c2a-8eac-cf4823bede93"
   },
   "outputs": [
    {
     "name": "stderr",
     "output_type": "stream",
     "text": [
      "/usr/local/lib/python3.6/dist-packages/statsmodels/tools/_testing.py:19: FutureWarning: pandas.util.testing is deprecated. Use the functions in the public API at pandas.testing instead.\n",
      "  import pandas.util.testing as tm\n"
     ]
    }
   ],
   "source": [
    "# Data manipulation libraries\n",
    "\n",
    "import pandas as pd\n",
    "import numpy as np \n",
    "import matplotlib.pyplot as plt\n",
    "import seaborn as sns\n",
    "import urllib.request, json\n",
    "import requests\n",
    "\n",
    "# Modeling Libraries\n",
    "\n",
    "import statsmodels.formula.api as sm\n",
    "from sklearn.datasets import make_regression\n",
    "from sklearn.linear_model import LinearRegression"
   ]
  },
  {
   "cell_type": "code",
   "execution_count": 2,
   "metadata": {
    "colab": {
     "base_uri": "https://localhost:8080/",
     "height": 204
    },
    "executionInfo": {
     "elapsed": 1261,
     "status": "ok",
     "timestamp": 1613882026339,
     "user": {
      "displayName": "Brenda Hali",
      "photoUrl": "",
      "userId": "16904729288000002034"
     },
     "user_tz": 300
    },
    "id": "Z0DhfR9l1hiY",
    "outputId": "852491d8-9950-48ee-f599-b723c8b4ecdb"
   },
   "outputs": [
    {
     "data": {
      "text/html": [
       "<div>\n",
       "<style scoped>\n",
       "    .dataframe tbody tr th:only-of-type {\n",
       "        vertical-align: middle;\n",
       "    }\n",
       "\n",
       "    .dataframe tbody tr th {\n",
       "        vertical-align: top;\n",
       "    }\n",
       "\n",
       "    .dataframe thead th {\n",
       "        text-align: right;\n",
       "    }\n",
       "</style>\n",
       "<table border=\"1\" class=\"dataframe\">\n",
       "  <thead>\n",
       "    <tr style=\"text-align: right;\">\n",
       "      <th></th>\n",
       "      <th>Unnamed: 0</th>\n",
       "      <th>TV</th>\n",
       "      <th>radio</th>\n",
       "      <th>newspaper</th>\n",
       "      <th>sales</th>\n",
       "    </tr>\n",
       "  </thead>\n",
       "  <tbody>\n",
       "    <tr>\n",
       "      <th>0</th>\n",
       "      <td>1</td>\n",
       "      <td>230.1</td>\n",
       "      <td>37.8</td>\n",
       "      <td>69.2</td>\n",
       "      <td>22.1</td>\n",
       "    </tr>\n",
       "    <tr>\n",
       "      <th>1</th>\n",
       "      <td>2</td>\n",
       "      <td>44.5</td>\n",
       "      <td>39.3</td>\n",
       "      <td>45.1</td>\n",
       "      <td>10.4</td>\n",
       "    </tr>\n",
       "    <tr>\n",
       "      <th>2</th>\n",
       "      <td>3</td>\n",
       "      <td>17.2</td>\n",
       "      <td>45.9</td>\n",
       "      <td>69.3</td>\n",
       "      <td>9.3</td>\n",
       "    </tr>\n",
       "    <tr>\n",
       "      <th>3</th>\n",
       "      <td>4</td>\n",
       "      <td>151.5</td>\n",
       "      <td>41.3</td>\n",
       "      <td>58.5</td>\n",
       "      <td>18.5</td>\n",
       "    </tr>\n",
       "    <tr>\n",
       "      <th>4</th>\n",
       "      <td>5</td>\n",
       "      <td>180.8</td>\n",
       "      <td>10.8</td>\n",
       "      <td>58.4</td>\n",
       "      <td>12.9</td>\n",
       "    </tr>\n",
       "  </tbody>\n",
       "</table>\n",
       "</div>"
      ],
      "text/plain": [
       "   Unnamed: 0     TV  radio  newspaper  sales\n",
       "0           1  230.1   37.8       69.2   22.1\n",
       "1           2   44.5   39.3       45.1   10.4\n",
       "2           3   17.2   45.9       69.3    9.3\n",
       "3           4  151.5   41.3       58.5   18.5\n",
       "4           5  180.8   10.8       58.4   12.9"
      ]
     },
     "execution_count": 2,
     "metadata": {
      "tags": []
     },
     "output_type": "execute_result"
    }
   ],
   "source": [
    "# Loading and exploring data\n",
    "url = 'https://drive.google.com/file/d/15314tJ8J1orLRF-k3r8xCntaYOgH1HYK/view'\n",
    "path = 'https://drive.google.com/uc?export=download&id='+url.split('/')[-2]\n",
    "df = pd.read_csv(path)\n",
    "\n",
    "df.head()"
   ]
  },
  {
   "cell_type": "code",
   "execution_count": 3,
   "metadata": {
    "colab": {
     "base_uri": "https://localhost:8080/"
    },
    "executionInfo": {
     "elapsed": 1256,
     "status": "ok",
     "timestamp": 1613882026340,
     "user": {
      "displayName": "Brenda Hali",
      "photoUrl": "",
      "userId": "16904729288000002034"
     },
     "user_tz": 300
    },
    "id": "b1jvwoZvvFgC",
    "outputId": "9c56a86f-7a65-4c39-e7cd-e254a085dfcd"
   },
   "outputs": [
    {
     "name": "stdout",
     "output_type": "stream",
     "text": [
      "<class 'pandas.core.frame.DataFrame'>\n",
      "RangeIndex: 200 entries, 0 to 199\n",
      "Data columns (total 5 columns):\n",
      " #   Column      Non-Null Count  Dtype  \n",
      "---  ------      --------------  -----  \n",
      " 0   Unnamed: 0  200 non-null    int64  \n",
      " 1   TV          200 non-null    float64\n",
      " 2   radio       200 non-null    float64\n",
      " 3   newspaper   200 non-null    float64\n",
      " 4   sales       200 non-null    float64\n",
      "dtypes: float64(4), int64(1)\n",
      "memory usage: 7.9 KB\n"
     ]
    }
   ],
   "source": [
    "# Looking for missing data, and datatypes\n",
    "\n",
    "df.info()"
   ]
  },
  {
   "cell_type": "code",
   "execution_count": 4,
   "metadata": {
    "colab": {
     "base_uri": "https://localhost:8080/",
     "height": 221
    },
    "executionInfo": {
     "elapsed": 1251,
     "status": "ok",
     "timestamp": 1613882026341,
     "user": {
      "displayName": "Brenda Hali",
      "photoUrl": "",
      "userId": "16904729288000002034"
     },
     "user_tz": 300
    },
    "id": "goLYlXh6vYxH",
    "outputId": "554846a3-7cd2-48e0-a5a7-257547ce73bc"
   },
   "outputs": [
    {
     "name": "stdout",
     "output_type": "stream",
     "text": [
      "(200, 4)\n"
     ]
    },
    {
     "data": {
      "text/html": [
       "<div>\n",
       "<style scoped>\n",
       "    .dataframe tbody tr th:only-of-type {\n",
       "        vertical-align: middle;\n",
       "    }\n",
       "\n",
       "    .dataframe tbody tr th {\n",
       "        vertical-align: top;\n",
       "    }\n",
       "\n",
       "    .dataframe thead th {\n",
       "        text-align: right;\n",
       "    }\n",
       "</style>\n",
       "<table border=\"1\" class=\"dataframe\">\n",
       "  <thead>\n",
       "    <tr style=\"text-align: right;\">\n",
       "      <th></th>\n",
       "      <th>TV</th>\n",
       "      <th>radio</th>\n",
       "      <th>newspaper</th>\n",
       "      <th>sales</th>\n",
       "    </tr>\n",
       "  </thead>\n",
       "  <tbody>\n",
       "    <tr>\n",
       "      <th>0</th>\n",
       "      <td>230.1</td>\n",
       "      <td>37.8</td>\n",
       "      <td>69.2</td>\n",
       "      <td>22.1</td>\n",
       "    </tr>\n",
       "    <tr>\n",
       "      <th>1</th>\n",
       "      <td>44.5</td>\n",
       "      <td>39.3</td>\n",
       "      <td>45.1</td>\n",
       "      <td>10.4</td>\n",
       "    </tr>\n",
       "    <tr>\n",
       "      <th>2</th>\n",
       "      <td>17.2</td>\n",
       "      <td>45.9</td>\n",
       "      <td>69.3</td>\n",
       "      <td>9.3</td>\n",
       "    </tr>\n",
       "    <tr>\n",
       "      <th>3</th>\n",
       "      <td>151.5</td>\n",
       "      <td>41.3</td>\n",
       "      <td>58.5</td>\n",
       "      <td>18.5</td>\n",
       "    </tr>\n",
       "    <tr>\n",
       "      <th>4</th>\n",
       "      <td>180.8</td>\n",
       "      <td>10.8</td>\n",
       "      <td>58.4</td>\n",
       "      <td>12.9</td>\n",
       "    </tr>\n",
       "  </tbody>\n",
       "</table>\n",
       "</div>"
      ],
      "text/plain": [
       "      TV  radio  newspaper  sales\n",
       "0  230.1   37.8       69.2   22.1\n",
       "1   44.5   39.3       45.1   10.4\n",
       "2   17.2   45.9       69.3    9.3\n",
       "3  151.5   41.3       58.5   18.5\n",
       "4  180.8   10.8       58.4   12.9"
      ]
     },
     "execution_count": 4,
     "metadata": {
      "tags": []
     },
     "output_type": "execute_result"
    }
   ],
   "source": [
    "# Dropping values that are not necesarry for this analysis\n",
    "\n",
    "df = df[['TV', 'radio', 'newspaper', 'sales']]\n",
    "print(df.shape)\n",
    "df.head()"
   ]
  },
  {
   "cell_type": "code",
   "execution_count": 5,
   "metadata": {
    "colab": {
     "base_uri": "https://localhost:8080/",
     "height": 297
    },
    "executionInfo": {
     "elapsed": 1246,
     "status": "ok",
     "timestamp": 1613882026342,
     "user": {
      "displayName": "Brenda Hali",
      "photoUrl": "",
      "userId": "16904729288000002034"
     },
     "user_tz": 300
    },
    "id": "CKQ7Wv_Xvk_I",
    "outputId": "39bf7a8f-9f44-4a51-8be5-8991b7482003"
   },
   "outputs": [
    {
     "data": {
      "text/html": [
       "<div>\n",
       "<style scoped>\n",
       "    .dataframe tbody tr th:only-of-type {\n",
       "        vertical-align: middle;\n",
       "    }\n",
       "\n",
       "    .dataframe tbody tr th {\n",
       "        vertical-align: top;\n",
       "    }\n",
       "\n",
       "    .dataframe thead th {\n",
       "        text-align: right;\n",
       "    }\n",
       "</style>\n",
       "<table border=\"1\" class=\"dataframe\">\n",
       "  <thead>\n",
       "    <tr style=\"text-align: right;\">\n",
       "      <th></th>\n",
       "      <th>TV</th>\n",
       "      <th>radio</th>\n",
       "      <th>newspaper</th>\n",
       "      <th>sales</th>\n",
       "    </tr>\n",
       "  </thead>\n",
       "  <tbody>\n",
       "    <tr>\n",
       "      <th>count</th>\n",
       "      <td>200.000000</td>\n",
       "      <td>200.000000</td>\n",
       "      <td>200.000000</td>\n",
       "      <td>200.000000</td>\n",
       "    </tr>\n",
       "    <tr>\n",
       "      <th>mean</th>\n",
       "      <td>147.042500</td>\n",
       "      <td>23.264000</td>\n",
       "      <td>30.554000</td>\n",
       "      <td>14.022500</td>\n",
       "    </tr>\n",
       "    <tr>\n",
       "      <th>std</th>\n",
       "      <td>85.854236</td>\n",
       "      <td>14.846809</td>\n",
       "      <td>21.778621</td>\n",
       "      <td>5.217457</td>\n",
       "    </tr>\n",
       "    <tr>\n",
       "      <th>min</th>\n",
       "      <td>0.700000</td>\n",
       "      <td>0.000000</td>\n",
       "      <td>0.300000</td>\n",
       "      <td>1.600000</td>\n",
       "    </tr>\n",
       "    <tr>\n",
       "      <th>25%</th>\n",
       "      <td>74.375000</td>\n",
       "      <td>9.975000</td>\n",
       "      <td>12.750000</td>\n",
       "      <td>10.375000</td>\n",
       "    </tr>\n",
       "    <tr>\n",
       "      <th>50%</th>\n",
       "      <td>149.750000</td>\n",
       "      <td>22.900000</td>\n",
       "      <td>25.750000</td>\n",
       "      <td>12.900000</td>\n",
       "    </tr>\n",
       "    <tr>\n",
       "      <th>75%</th>\n",
       "      <td>218.825000</td>\n",
       "      <td>36.525000</td>\n",
       "      <td>45.100000</td>\n",
       "      <td>17.400000</td>\n",
       "    </tr>\n",
       "    <tr>\n",
       "      <th>max</th>\n",
       "      <td>296.400000</td>\n",
       "      <td>49.600000</td>\n",
       "      <td>114.000000</td>\n",
       "      <td>27.000000</td>\n",
       "    </tr>\n",
       "  </tbody>\n",
       "</table>\n",
       "</div>"
      ],
      "text/plain": [
       "               TV       radio   newspaper       sales\n",
       "count  200.000000  200.000000  200.000000  200.000000\n",
       "mean   147.042500   23.264000   30.554000   14.022500\n",
       "std     85.854236   14.846809   21.778621    5.217457\n",
       "min      0.700000    0.000000    0.300000    1.600000\n",
       "25%     74.375000    9.975000   12.750000   10.375000\n",
       "50%    149.750000   22.900000   25.750000   12.900000\n",
       "75%    218.825000   36.525000   45.100000   17.400000\n",
       "max    296.400000   49.600000  114.000000   27.000000"
      ]
     },
     "execution_count": 5,
     "metadata": {
      "tags": []
     },
     "output_type": "execute_result"
    }
   ],
   "source": [
    "# Printing variables' descripting statistics\n",
    "\n",
    "df.describe()"
   ]
  },
  {
   "cell_type": "code",
   "execution_count": 6,
   "metadata": {
    "colab": {
     "base_uri": "https://localhost:8080/",
     "height": 269
    },
    "executionInfo": {
     "elapsed": 1628,
     "status": "ok",
     "timestamp": 1613882026731,
     "user": {
      "displayName": "Brenda Hali",
      "photoUrl": "",
      "userId": "16904729288000002034"
     },
     "user_tz": 300
    },
    "id": "Xd5iPZfSvz6c",
    "outputId": "38a0a183-6036-4e6a-fcfb-e0b3ba6ef491"
   },
   "outputs": [
    {
     "data": {
      "image/png": "[encoded data removed]",
      "text/plain": [
       "<Figure size 576x288 with 2 Axes>"
      ]
     },
     "metadata": {
      "needs_background": "light",
      "tags": []
     },
     "output_type": "display_data"
    }
   ],
   "source": [
    "# Looking for correlations in variables\n",
    "\n",
    "fig, ax = plt.subplots(figsize=(8,4)) \n",
    "sns.heatmap(df.corr(),annot=True, cmap='RdBu_r');"
   ]
  },
  {
   "cell_type": "code",
   "execution_count": 7,
   "metadata": {
    "colab": {
     "base_uri": "https://localhost:8080/",
     "height": 726
    },
    "executionInfo": {
     "elapsed": 7611,
     "status": "ok",
     "timestamp": 1613882032720,
     "user": {
      "displayName": "Brenda Hali",
      "photoUrl": "",
      "userId": "16904729288000002034"
     },
     "user_tz": 300
    },
    "id": "Zb4CZ9dZwF2E",
    "outputId": "a0a9eb1e-ba05-4445-e6b8-dd0038162c8a"
   },
   "outputs": [
    {
     "data": {
      "image/png": "[encoded data removed]",
      "text/plain": [
       "<Figure size 720x720 with 20 Axes>"
      ]
     },
     "metadata": {
      "needs_background": "light",
      "tags": []
     },
     "output_type": "display_data"
    }
   ],
   "source": [
    "# Ploting the data distribution to graphycally identify correlations, patterns and outliers\n",
    "\n",
    "sns.pairplot(df[['TV', 'radio', 'newspaper', 'sales']])\n",
    "plt.show()"
   ]
  },
  {
   "cell_type": "code",
   "execution_count": 8,
   "metadata": {
    "executionInfo": {
     "elapsed": 7609,
     "status": "ok",
     "timestamp": 1613882032720,
     "user": {
      "displayName": "Brenda Hali",
      "photoUrl": "",
      "userId": "16904729288000002034"
     },
     "user_tz": 300
    },
    "id": "OHhQ2eQXwi-c"
   },
   "outputs": [],
   "source": [
    "# Selecting dependent and independent variables.  We want to to predict Sales represented by X, and features represented by Y the advertising channels \n",
    "\n",
    "X = df[['TV', 'radio', 'newspaper']]\n",
    "y = df['sales']"
   ]
  },
  {
   "cell_type": "code",
   "execution_count": 9,
   "metadata": {
    "colab": {
     "base_uri": "https://localhost:8080/"
    },
    "executionInfo": {
     "elapsed": 7604,
     "status": "ok",
     "timestamp": 1613882032721,
     "user": {
      "displayName": "Brenda Hali",
      "photoUrl": "",
      "userId": "16904729288000002034"
     },
     "user_tz": 300
    },
    "id": "u3up6MhLw-zh",
    "outputId": "a6536474-0c46-4542-bbd8-ab960ebc237c"
   },
   "outputs": [
    {
     "name": "stdout",
     "output_type": "stream",
     "text": [
      "(200, 3) (200,)\n"
     ]
    }
   ],
   "source": [
    "print(X.shape, y.shape)"
   ]
  },
  {
   "cell_type": "code",
   "execution_count": 10,
   "metadata": {
    "colab": {
     "base_uri": "https://localhost:8080/",
     "height": 242
    },
    "executionInfo": {
     "elapsed": 8106,
     "status": "ok",
     "timestamp": 1613882033229,
     "user": {
      "displayName": "Brenda Hali",
      "photoUrl": "",
      "userId": "16904729288000002034"
     },
     "user_tz": 300
    },
    "id": "IJZw1zjsxMej",
    "outputId": "1bef12c2-3ea8-46aa-bbe8-622d8eb3c82b"
   },
   "outputs": [
    {
     "data": {
      "text/plain": [
       "<matplotlib.axes._subplots.AxesSubplot at 0x7fc04a079e10>"
      ]
     },
     "execution_count": 10,
     "metadata": {
      "tags": []
     },
     "output_type": "execute_result"
    },
    {
     "data": {
      "image/png": "[encoded data removed]",
      "text/plain": [
       "<Figure size 720x216 with 3 Axes>"
      ]
     },
     "metadata": {
      "needs_background": "light",
      "tags": []
     },
     "output_type": "display_data"
    }
   ],
   "source": [
    "#Correlations - extended\n",
    "figure, ((ax1, ax2, ax3)) = plt.subplots(nrows=1, ncols=3) #This line place the visualizations in one screen\n",
    "\n",
    "figure.set_size_inches(10, 3) # Size\n",
    "\n",
    "# Visualize the distribution of media relation to sales with a scatterplot \n",
    "sns.scatterplot(data=df, x='TV', y='sales', ax=ax1)\n",
    "sns.scatterplot(data=df, x='radio', y='sales', ax=ax2)\n",
    "sns.scatterplot(data=df, x='newspaper', y='sales', ax=ax3)\n",
    "\n"
   ]
  },
  {
   "cell_type": "markdown",
   "metadata": {
    "id": "OVDNWD96yjnr"
   },
   "source": [
    "Analyzing the scatterplots, we can clearly see TV advertising has the higher an impact on sales."
   ]
  },
  {
   "cell_type": "markdown",
   "metadata": {
    "id": "UBzjUQsoymdo"
   },
   "source": [
    "## Lineal Regression Analysis"
   ]
  },
  {
   "cell_type": "markdown",
   "metadata": {
    "id": "uQ8OWagXwwxT"
   },
   "source": [
    "#### Using statsmodels library"
   ]
  },
  {
   "cell_type": "code",
   "execution_count": 11,
   "metadata": {
    "colab": {
     "base_uri": "https://localhost:8080/"
    },
    "executionInfo": {
     "elapsed": 8101,
     "status": "ok",
     "timestamp": 1613882033230,
     "user": {
      "displayName": "Brenda Hali",
      "photoUrl": "",
      "userId": "16904729288000002034"
     },
     "user_tz": 300
    },
    "id": "pAVRwbh1xdLy",
    "outputId": "f5da9f8f-f6e6-406f-c0c8-a988392f6aaf"
   },
   "outputs": [
    {
     "name": "stdout",
     "output_type": "stream",
     "text": [
      "                            OLS Regression Results                            \n",
      "==============================================================================\n",
      "Dep. Variable:                  sales   R-squared:                       0.897\n",
      "Model:                            OLS   Adj. R-squared:                  0.896\n",
      "Method:                 Least Squares   F-statistic:                     570.3\n",
      "Date:                Sun, 21 Feb 2021   Prob (F-statistic):           1.58e-96\n",
      "Time:                        04:33:53   Log-Likelihood:                -386.18\n",
      "No. Observations:                 200   AIC:                             780.4\n",
      "Df Residuals:                     196   BIC:                             793.6\n",
      "Df Model:                           3                                         \n",
      "Covariance Type:            nonrobust                                         \n",
      "==============================================================================\n",
      "                 coef    std err          t      P>|t|      [0.025      0.975]\n",
      "------------------------------------------------------------------------------\n",
      "Intercept      2.9389      0.312      9.422      0.000       2.324       3.554\n",
      "TV             0.0458      0.001     32.809      0.000       0.043       0.049\n",
      "radio          0.1885      0.009     21.893      0.000       0.172       0.206\n",
      "newspaper     -0.0010      0.006     -0.177      0.860      -0.013       0.011\n",
      "==============================================================================\n",
      "Omnibus:                       60.414   Durbin-Watson:                   2.084\n",
      "Prob(Omnibus):                  0.000   Jarque-Bera (JB):              151.241\n",
      "Skew:                          -1.327   Prob(JB):                     1.44e-33\n",
      "Kurtosis:                       6.332   Cond. No.                         454.\n",
      "==============================================================================\n",
      "\n",
      "Warnings:\n",
      "[1] Standard Errors assume that the covariance matrix of the errors is correctly specified.\n"
     ]
    }
   ],
   "source": [
    "# Analysis using statsmodels library\n",
    "\n",
    "model = sm.ols(formula = 'sales ~ TV + radio + newspaper', data=df).fit()\n",
    "\n",
    "print(model.summary())"
   ]
  },
  {
   "cell_type": "markdown",
   "metadata": {
    "id": "UBq66tx2z4iI"
   },
   "source": [
    "#### Model Interpretation\n",
    "\n",
    "-\t##### R-Squared: \n",
    "\n",
    "R-squared is a statistical measure of how close the data are to the fitted regression line. It is also known as the coefficient of determination. R squared values are always between 0 and 1, when 0 indicates that the model does not explain the model variability, and 1 explains all the variability. \n",
    "In this model R-squared is 0.897, significantly high. \n",
    "\n",
    "-\t##### P-value\n",
    "\n",
    "The level of statistical significance is often expressed as a p-value, which is a number between 0 and 1. Generally, when a p-value less than 0.05 (≤ 0.05) is statistically significant.\n",
    "\n",
    "In our model summary, the p-values are shown under the column labeled P>|t|. \n",
    "\n",
    "TV and radio the p-values are 0.0 or ≤ 0.05. Those variables are statistically significant.\n",
    "Newspaper is statistically insignificant, with a p-value of 0.86.  Newspaper advertisements have not effect on sales .\n",
    "\n",
    "\n",
    "The model’s regression equation can be seen in the column coef, being as follows: \n",
    "\n",
    "##### sales = 2.9389 + 0.0458 TV + 0.1885 radio-0.001*newspaper\n"
   ]
  },
  {
   "cell_type": "markdown",
   "metadata": {
    "id": "X3t3wgQK0IeU"
   },
   "source": [
    "### Regression using sklearn"
   ]
  },
  {
   "cell_type": "code",
   "execution_count": 12,
   "metadata": {
    "colab": {
     "base_uri": "https://localhost:8080/"
    },
    "executionInfo": {
     "elapsed": 8097,
     "status": "ok",
     "timestamp": 1613882033231,
     "user": {
      "displayName": "Brenda Hali",
      "photoUrl": "",
      "userId": "16904729288000002034"
     },
     "user_tz": 300
    },
    "id": "EIKV_zgHxwha",
    "outputId": "fe005ca1-e33d-46b7-e95d-c3e52575726e"
   },
   "outputs": [
    {
     "name": "stdout",
     "output_type": "stream",
     "text": [
      "2.938889369459412 [ 0.04576465  0.18853002 -0.00103749]\n"
     ]
    }
   ],
   "source": [
    "model = LinearRegression().fit(X, y)\n",
    "print(model.intercept_, model.coef_)\n"
   ]
  },
  {
   "cell_type": "markdown",
   "metadata": {
    "id": "_pdh29tEwwxU"
   },
   "source": [
    "#### OLS results depending on whether or not variables are included"
   ]
  },
  {
   "cell_type": "code",
   "execution_count": 13,
   "metadata": {
    "colab": {
     "base_uri": "https://localhost:8080/"
    },
    "executionInfo": {
     "elapsed": 8090,
     "status": "ok",
     "timestamp": 1613882033232,
     "user": {
      "displayName": "Brenda Hali",
      "photoUrl": "",
      "userId": "16904729288000002034"
     },
     "user_tz": 300
    },
    "id": "BzCbfBQj0MNf",
    "outputId": "21ad8e28-c895-4009-f7db-6f033a90e3ce"
   },
   "outputs": [
    {
     "name": "stdout",
     "output_type": "stream",
     "text": [
      "                            OLS Regression Results                            \n",
      "==============================================================================\n",
      "Dep. Variable:                  sales   R-squared:                       0.897\n",
      "Model:                            OLS   Adj. R-squared:                  0.896\n",
      "Method:                 Least Squares   F-statistic:                     570.3\n",
      "Date:                Sun, 21 Feb 2021   Prob (F-statistic):           1.58e-96\n",
      "Time:                        04:33:53   Log-Likelihood:                -386.18\n",
      "No. Observations:                 200   AIC:                             780.4\n",
      "Df Residuals:                     196   BIC:                             793.6\n",
      "Df Model:                           3                                         \n",
      "Covariance Type:            nonrobust                                         \n",
      "==============================================================================\n",
      "                 coef    std err          t      P>|t|      [0.025      0.975]\n",
      "------------------------------------------------------------------------------\n",
      "Intercept      2.9389      0.312      9.422      0.000       2.324       3.554\n",
      "TV             0.0458      0.001     32.809      0.000       0.043       0.049\n",
      "radio          0.1885      0.009     21.893      0.000       0.172       0.206\n",
      "newspaper     -0.0010      0.006     -0.177      0.860      -0.013       0.011\n",
      "==============================================================================\n",
      "Omnibus:                       60.414   Durbin-Watson:                   2.084\n",
      "Prob(Omnibus):                  0.000   Jarque-Bera (JB):              151.241\n",
      "Skew:                          -1.327   Prob(JB):                     1.44e-33\n",
      "Kurtosis:                       6.332   Cond. No.                         454.\n",
      "==============================================================================\n",
      "\n",
      "Warnings:\n",
      "[1] Standard Errors assume that the covariance matrix of the errors is correctly specified.\n",
      "--------------------------------\n",
      "                            OLS Regression Results                            \n",
      "==============================================================================\n",
      "Dep. Variable:                  sales   R-squared:                       0.897\n",
      "Model:                            OLS   Adj. R-squared:                  0.896\n",
      "Method:                 Least Squares   F-statistic:                     859.6\n",
      "Date:                Sun, 21 Feb 2021   Prob (F-statistic):           4.83e-98\n",
      "Time:                        04:33:53   Log-Likelihood:                -386.20\n",
      "No. Observations:                 200   AIC:                             778.4\n",
      "Df Residuals:                     197   BIC:                             788.3\n",
      "Df Model:                           2                                         \n",
      "Covariance Type:            nonrobust                                         \n",
      "==============================================================================\n",
      "                 coef    std err          t      P>|t|      [0.025      0.975]\n",
      "------------------------------------------------------------------------------\n",
      "Intercept      2.9211      0.294      9.919      0.000       2.340       3.502\n",
      "TV             0.0458      0.001     32.909      0.000       0.043       0.048\n",
      "radio          0.1880      0.008     23.382      0.000       0.172       0.204\n",
      "==============================================================================\n",
      "Omnibus:                       60.022   Durbin-Watson:                   2.081\n",
      "Prob(Omnibus):                  0.000   Jarque-Bera (JB):              148.679\n",
      "Skew:                          -1.323   Prob(JB):                     5.19e-33\n",
      "Kurtosis:                       6.292   Cond. No.                         425.\n",
      "==============================================================================\n",
      "\n",
      "Warnings:\n",
      "[1] Standard Errors assume that the covariance matrix of the errors is correctly specified.\n",
      "--------------------------------\n",
      "                            OLS Regression Results                            \n",
      "==============================================================================\n",
      "Dep. Variable:                  sales   R-squared:                       0.612\n",
      "Model:                            OLS   Adj. R-squared:                  0.610\n",
      "Method:                 Least Squares   F-statistic:                     312.1\n",
      "Date:                Sun, 21 Feb 2021   Prob (F-statistic):           1.47e-42\n",
      "Time:                        04:33:53   Log-Likelihood:                -519.05\n",
      "No. Observations:                 200   AIC:                             1042.\n",
      "Df Residuals:                     198   BIC:                             1049.\n",
      "Df Model:                           1                                         \n",
      "Covariance Type:            nonrobust                                         \n",
      "==============================================================================\n",
      "                 coef    std err          t      P>|t|      [0.025      0.975]\n",
      "------------------------------------------------------------------------------\n",
      "Intercept      7.0326      0.458     15.360      0.000       6.130       7.935\n",
      "TV             0.0475      0.003     17.668      0.000       0.042       0.053\n",
      "==============================================================================\n",
      "Omnibus:                        0.531   Durbin-Watson:                   1.935\n",
      "Prob(Omnibus):                  0.767   Jarque-Bera (JB):                0.669\n",
      "Skew:                          -0.089   Prob(JB):                        0.716\n",
      "Kurtosis:                       2.779   Cond. No.                         338.\n",
      "==============================================================================\n",
      "\n",
      "Warnings:\n",
      "[1] Standard Errors assume that the covariance matrix of the errors is correctly specified.\n"
     ]
    }
   ],
   "source": [
    "\n",
    "model_1 = sm.ols(formula = 'sales ~ TV + radio + newspaper', data=df).fit()\n",
    "model_2 = sm.ols(formula = 'sales ~ TV + radio', data=df).fit()\n",
    "model_3 = sm.ols(formula = 'sales ~ TV', data=df).fit()\n",
    "\n",
    "print(model_1.summary())\n",
    "print('--------------------------------')\n",
    "print(model_2.summary())\n",
    "print('--------------------------------')\n",
    "print(model_3.summary())"
   ]
  },
  {
   "cell_type": "markdown",
   "metadata": {
    "id": "PABNfxGZ0xAH"
   },
   "source": [
    "### Interpretation\n",
    "\n",
    "Ordinary Least Squares (OLS) is a type of linear least squares method for estimating the unknown parameters in a linear regression model. OLS chooses the parameters of a linear function of a set of explanatory variables by the principle of least squares: minimizing the sum of the squares of the differences between the observed dependent variable in the given dataset and those predicted by the linear function of the independent variable.\n",
    "\n",
    "There are three statistical approaches to estimating how well a given model fits a dataset and how complex the model is. And each can be shown to be equivalent or proportional to each other, although each was derived from a different framing or field of study.\n",
    "\n",
    "They are:\n",
    "* Akaike Information Criterion (AIC). Derived from frequentist probability.\n",
    "* Bayesian Information Criterion (BIC). Derived from Bayesian probability.\n",
    "* Minimum Description Length (MDL). Derived from information theory.\n",
    "\n",
    "### Using AIC and BIC\n",
    "\n",
    "-\tAIC and BIC of model_2 with the insignificant variable newspaper removed are the lowest. When choosing among multiple models, it is common to select the one where AIC and BIC are the lowest, indicating that it is the best performing model. Of course, AIC and BIC are not the only criteria for selection and should be considered along with other indicators such as RMSE and CFI.\n",
    "\n",
    "-\tAccording to the results, the p-value was 0.05 or more, and newspaper advertisements did not show a statistically significant difference in the presence or absence of a variable in sales forecasting.  In other words, we can interpret again that newspaper advertisement does not affect sales. "
   ]
  },
  {
   "cell_type": "markdown",
   "metadata": {
    "id": "kg85OE6pwwxV"
   },
   "source": [
    "####  Predicting sales by advertising spending using model_1\n",
    "##### Regression: sales = 2.9389 + 0.0458 TV + 0.1885 radio-0.001*newspaper"
   ]
  },
  {
   "cell_type": "code",
   "execution_count": 14,
   "metadata": {
    "colab": {
     "base_uri": "https://localhost:8080/"
    },
    "executionInfo": {
     "elapsed": 8085,
     "status": "ok",
     "timestamp": 1613882033232,
     "user": {
      "displayName": "Brenda Hali",
      "photoUrl": "",
      "userId": "16904729288000002034"
     },
     "user_tz": 300
    },
    "id": "Hspkdx1h0m85",
    "outputId": "8b2d9fb9-3cdd-41a5-eae3-392c790131f1"
   },
   "outputs": [
    {
     "data": {
      "text/plain": [
       "0    18.549433\n",
       "dtype: float64"
      ]
     },
     "execution_count": 14,
     "metadata": {
      "tags": []
     },
     "output_type": "execute_result"
    }
   ],
   "source": [
    "#Spending: TV $300, Radio $10, Newspaper $4\n",
    "model_1.predict({\"TV\" : 300, \"radio\": 10, \"newspaper\": 4})"
   ]
  },
  {
   "cell_type": "code",
   "execution_count": 15,
   "metadata": {
    "colab": {
     "base_uri": "https://localhost:8080/"
    },
    "executionInfo": {
     "elapsed": 8311,
     "status": "ok",
     "timestamp": 1613882033463,
     "user": {
      "displayName": "Brenda Hali",
      "photoUrl": "",
      "userId": "16904729288000002034"
     },
     "user_tz": 300
    },
    "id": "V_OO-umY1Vja",
    "outputId": "d50a41bb-e0f5-4991-893f-dd9f546b72d9"
   },
   "outputs": [
    {
     "data": {
      "text/plain": [
       "18.5599"
      ]
     },
     "execution_count": 15,
     "metadata": {
      "tags": []
     },
     "output_type": "execute_result"
    }
   ],
   "source": [
    "sales = 2.9389 + 0.0458*300 + 0.1885*10 - 0.001*4\n",
    "sales"
   ]
  },
  {
   "cell_type": "markdown",
   "metadata": {
    "id": "BgihLRZ_xAAt"
   },
   "source": [
    "### Action Plan\n",
    "\n",
    "Given that the data has shown that newspaper advertisement investment does not impact sales, the budget of newspaper advertisement can be reallocated to TV or Radio.\n",
    "\n",
    "-------\n",
    "\n",
    "### Final thoughts \n",
    "\n",
    "This exercise is oversimplified, we worked with less than 200 datapoints and just 3 variables. In real life data you may find multiple variables composing the marketing funnel that impact sales, and time and location should be considered. \n",
    "\n",
    "Always double-check the data sources when you are working with samples. Data must have been randomly selected and must have a normal distribution. \n",
    "\n",
    "The data science process gets more complicated as data increases, but most of the projects follow the steps we observed in this project. "
   ]
  }
 ],
 "metadata": {
  "colab": {
   "collapsed_sections": [],
   "name": "01-Advertising_Mix_Modeling.ipynb",
   "provenance": [],
   "toc_visible": true
  },
  "kernelspec": {
   "display_name": "Python 3",
   "language": "python",
   "name": "python3"
  },
  "language_info": {
   "codemirror_mode": {
    "name": "ipython",
    "version": 3
   },
   "file_extension": ".py",
   "mimetype": "text/x-python",
   "name": "python",
   "nbconvert_exporter": "python",
   "pygments_lexer": "ipython3",
   "version": "3.8.5"
  }
 },
 "nbformat": 4,
 "nbformat_minor": 4
}
